{
 "cells": [
  {
   "cell_type": "code",
   "execution_count": 2,
   "metadata": {},
   "outputs": [],
   "source": [
    "import pandas as pd\n",
    "import matplotlib.pyplot as plt"
   ]
  },
  {
   "cell_type": "code",
   "execution_count": 2,
   "metadata": {},
   "outputs": [],
   "source": [
    "# Read the CSV file into a DataFrame\n",
    "df = pd.read_csv('hotel_booking.csv')"
   ]
  },
  {
   "cell_type": "code",
   "execution_count": 62,
   "metadata": {},
   "outputs": [
    {
     "data": {
      "text/html": [
       "<div>\n",
       "<style scoped>\n",
       "    .dataframe tbody tr th:only-of-type {\n",
       "        vertical-align: middle;\n",
       "    }\n",
       "\n",
       "    .dataframe tbody tr th {\n",
       "        vertical-align: top;\n",
       "    }\n",
       "\n",
       "    .dataframe thead th {\n",
       "        text-align: right;\n",
       "    }\n",
       "</style>\n",
       "<table border=\"1\" class=\"dataframe\">\n",
       "  <thead>\n",
       "    <tr style=\"text-align: right;\">\n",
       "      <th></th>\n",
       "      <th>hotel</th>\n",
       "      <th>is_canceled</th>\n",
       "      <th>lead_time</th>\n",
       "      <th>arrival_date_year</th>\n",
       "      <th>arrival_date_month</th>\n",
       "      <th>arrival_date_week_number</th>\n",
       "      <th>arrival_date_day_of_month</th>\n",
       "      <th>stays_in_weekend_nights</th>\n",
       "      <th>stays_in_week_nights</th>\n",
       "      <th>adults</th>\n",
       "      <th>...</th>\n",
       "      <th>meal</th>\n",
       "      <th>country</th>\n",
       "      <th>market_segment</th>\n",
       "      <th>distribution_channel</th>\n",
       "      <th>is_repeated_guest</th>\n",
       "      <th>previous_cancellations</th>\n",
       "      <th>previous_bookings_not_canceled</th>\n",
       "      <th>reserved_room_type</th>\n",
       "      <th>assigned_room_type</th>\n",
       "      <th>booking_changes</th>\n",
       "    </tr>\n",
       "  </thead>\n",
       "  <tbody>\n",
       "    <tr>\n",
       "      <th>0</th>\n",
       "      <td>Resort Hotel</td>\n",
       "      <td>0</td>\n",
       "      <td>342</td>\n",
       "      <td>2015</td>\n",
       "      <td>July</td>\n",
       "      <td>27</td>\n",
       "      <td>1</td>\n",
       "      <td>0</td>\n",
       "      <td>0</td>\n",
       "      <td>2</td>\n",
       "      <td>...</td>\n",
       "      <td>BB</td>\n",
       "      <td>PRT</td>\n",
       "      <td>Direct</td>\n",
       "      <td>Direct</td>\n",
       "      <td>0</td>\n",
       "      <td>0</td>\n",
       "      <td>0</td>\n",
       "      <td>C</td>\n",
       "      <td>C</td>\n",
       "      <td>3</td>\n",
       "    </tr>\n",
       "    <tr>\n",
       "      <th>1</th>\n",
       "      <td>Resort Hotel</td>\n",
       "      <td>0</td>\n",
       "      <td>737</td>\n",
       "      <td>2015</td>\n",
       "      <td>July</td>\n",
       "      <td>27</td>\n",
       "      <td>1</td>\n",
       "      <td>0</td>\n",
       "      <td>0</td>\n",
       "      <td>2</td>\n",
       "      <td>...</td>\n",
       "      <td>BB</td>\n",
       "      <td>PRT</td>\n",
       "      <td>Direct</td>\n",
       "      <td>Direct</td>\n",
       "      <td>0</td>\n",
       "      <td>0</td>\n",
       "      <td>0</td>\n",
       "      <td>C</td>\n",
       "      <td>C</td>\n",
       "      <td>4</td>\n",
       "    </tr>\n",
       "    <tr>\n",
       "      <th>2</th>\n",
       "      <td>Resort Hotel</td>\n",
       "      <td>0</td>\n",
       "      <td>7</td>\n",
       "      <td>2015</td>\n",
       "      <td>July</td>\n",
       "      <td>27</td>\n",
       "      <td>1</td>\n",
       "      <td>0</td>\n",
       "      <td>1</td>\n",
       "      <td>1</td>\n",
       "      <td>...</td>\n",
       "      <td>BB</td>\n",
       "      <td>GBR</td>\n",
       "      <td>Direct</td>\n",
       "      <td>Direct</td>\n",
       "      <td>0</td>\n",
       "      <td>0</td>\n",
       "      <td>0</td>\n",
       "      <td>A</td>\n",
       "      <td>C</td>\n",
       "      <td>0</td>\n",
       "    </tr>\n",
       "    <tr>\n",
       "      <th>3</th>\n",
       "      <td>Resort Hotel</td>\n",
       "      <td>0</td>\n",
       "      <td>13</td>\n",
       "      <td>2015</td>\n",
       "      <td>July</td>\n",
       "      <td>27</td>\n",
       "      <td>1</td>\n",
       "      <td>0</td>\n",
       "      <td>1</td>\n",
       "      <td>1</td>\n",
       "      <td>...</td>\n",
       "      <td>BB</td>\n",
       "      <td>GBR</td>\n",
       "      <td>Corporate</td>\n",
       "      <td>Corporate</td>\n",
       "      <td>0</td>\n",
       "      <td>0</td>\n",
       "      <td>0</td>\n",
       "      <td>A</td>\n",
       "      <td>A</td>\n",
       "      <td>0</td>\n",
       "    </tr>\n",
       "    <tr>\n",
       "      <th>4</th>\n",
       "      <td>Resort Hotel</td>\n",
       "      <td>0</td>\n",
       "      <td>14</td>\n",
       "      <td>2015</td>\n",
       "      <td>July</td>\n",
       "      <td>27</td>\n",
       "      <td>1</td>\n",
       "      <td>0</td>\n",
       "      <td>2</td>\n",
       "      <td>2</td>\n",
       "      <td>...</td>\n",
       "      <td>BB</td>\n",
       "      <td>GBR</td>\n",
       "      <td>Online TA</td>\n",
       "      <td>TA/TO</td>\n",
       "      <td>0</td>\n",
       "      <td>0</td>\n",
       "      <td>0</td>\n",
       "      <td>A</td>\n",
       "      <td>A</td>\n",
       "      <td>0</td>\n",
       "    </tr>\n",
       "  </tbody>\n",
       "</table>\n",
       "<p>5 rows × 22 columns</p>\n",
       "</div>"
      ],
      "text/plain": [
       "          hotel  is_canceled  lead_time  arrival_date_year arrival_date_month  \\\n",
       "0  Resort Hotel            0        342               2015               July   \n",
       "1  Resort Hotel            0        737               2015               July   \n",
       "2  Resort Hotel            0          7               2015               July   \n",
       "3  Resort Hotel            0         13               2015               July   \n",
       "4  Resort Hotel            0         14               2015               July   \n",
       "\n",
       "   arrival_date_week_number  arrival_date_day_of_month  \\\n",
       "0                        27                          1   \n",
       "1                        27                          1   \n",
       "2                        27                          1   \n",
       "3                        27                          1   \n",
       "4                        27                          1   \n",
       "\n",
       "   stays_in_weekend_nights  stays_in_week_nights  adults  ...  meal  country  \\\n",
       "0                        0                     0       2  ...    BB      PRT   \n",
       "1                        0                     0       2  ...    BB      PRT   \n",
       "2                        0                     1       1  ...    BB      GBR   \n",
       "3                        0                     1       1  ...    BB      GBR   \n",
       "4                        0                     2       2  ...    BB      GBR   \n",
       "\n",
       "  market_segment distribution_channel is_repeated_guest  \\\n",
       "0         Direct               Direct                 0   \n",
       "1         Direct               Direct                 0   \n",
       "2         Direct               Direct                 0   \n",
       "3      Corporate            Corporate                 0   \n",
       "4      Online TA                TA/TO                 0   \n",
       "\n",
       "  previous_cancellations  previous_bookings_not_canceled  reserved_room_type  \\\n",
       "0                      0                               0                   C   \n",
       "1                      0                               0                   C   \n",
       "2                      0                               0                   A   \n",
       "3                      0                               0                   A   \n",
       "4                      0                               0                   A   \n",
       "\n",
       "   assigned_room_type booking_changes  \n",
       "0                   C               3  \n",
       "1                   C               4  \n",
       "2                   C               0  \n",
       "3                   A               0  \n",
       "4                   A               0  \n",
       "\n",
       "[5 rows x 22 columns]"
      ]
     },
     "execution_count": 62,
     "metadata": {},
     "output_type": "execute_result"
    }
   ],
   "source": [
    "# Display the first few rows of the DataFrame\n",
    "df.head()"
   ]
  },
  {
   "cell_type": "code",
   "execution_count": 51,
   "metadata": {},
   "outputs": [
    {
     "data": {
      "text/plain": [
       "Index(['hotel', 'is_canceled', 'lead_time', 'arrival_date_year',\n",
       "       'arrival_date_month', 'arrival_date_week_number',\n",
       "       'arrival_date_day_of_month', 'stays_in_weekend_nights',\n",
       "       'stays_in_week_nights', 'adults', 'children', 'babies', 'meal',\n",
       "       'country', 'market_segment', 'distribution_channel',\n",
       "       'is_repeated_guest', 'previous_cancellations',\n",
       "       'previous_bookings_not_canceled', 'reserved_room_type',\n",
       "       'assigned_room_type', 'booking_changes'],\n",
       "      dtype='object')"
      ]
     },
     "execution_count": 51,
     "metadata": {},
     "output_type": "execute_result"
    }
   ],
   "source": [
    "# get all the columns\n",
    "df.columns"
   ]
  },
  {
   "cell_type": "code",
   "execution_count": 52,
   "metadata": {},
   "outputs": [
    {
     "data": {
      "text/plain": [
       "hotel                               0\n",
       "is_canceled                         0\n",
       "lead_time                           0\n",
       "arrival_date_year                   0\n",
       "arrival_date_month                  0\n",
       "arrival_date_week_number            0\n",
       "arrival_date_day_of_month           0\n",
       "stays_in_weekend_nights             0\n",
       "stays_in_week_nights                0\n",
       "adults                              0\n",
       "children                            4\n",
       "babies                              0\n",
       "meal                                0\n",
       "country                           488\n",
       "market_segment                      0\n",
       "distribution_channel                0\n",
       "is_repeated_guest                   0\n",
       "previous_cancellations              0\n",
       "previous_bookings_not_canceled      0\n",
       "reserved_room_type                  0\n",
       "assigned_room_type                  0\n",
       "booking_changes                     0\n",
       "dtype: int64"
      ]
     },
     "execution_count": 52,
     "metadata": {},
     "output_type": "execute_result"
    }
   ],
   "source": [
    "# check for null values\n",
    "df.isnull().sum()"
   ]
  },
  {
   "cell_type": "markdown",
   "metadata": {},
   "source": [
    "<h1>Gets the count of unique arrival_date_month values</h1>"
   ]
  },
  {
   "cell_type": "code",
   "execution_count": 11,
   "metadata": {},
   "outputs": [
    {
     "name": "stdout",
     "output_type": "stream",
     "text": [
      "Count of 'arrival_date_month' column: arrival_date_month\n",
      "August       13877\n",
      "July         12661\n",
      "May          11791\n",
      "October      11160\n",
      "April        11089\n",
      "June         10939\n",
      "September    10508\n",
      "March         9794\n",
      "February      8068\n",
      "November      6794\n",
      "December      6780\n",
      "January       5929\n",
      "Name: count, dtype: int64\n"
     ]
    }
   ],
   "source": [
    "\n",
    "# Replace 'your_column_name' with the name of the column you want to count\n",
    "column_name = 'arrival_date_month'\n",
    "\n",
    "# Get the count of non-null values in the specified column\n",
    "column_count = df[column_name].value_counts()\n",
    "\n",
    "print(f\"Count of '{column_name}' column: {column_count}\")"
   ]
  },
  {
   "cell_type": "markdown",
   "metadata": {},
   "source": [
    "<h1>Gets the count of unique arrival_date_month values where 'is_canceled' is 0</h1>"
   ]
  },
  {
   "cell_type": "code",
   "execution_count": 17,
   "metadata": {},
   "outputs": [
    {
     "name": "stdout",
     "output_type": "stream",
     "text": [
      "Count of 'arrival_date_month' column: arrival_date_month\n",
      "April        6565\n",
      "August       8638\n",
      "December     4409\n",
      "February     5372\n",
      "January      4122\n",
      "July         7919\n",
      "June         6404\n",
      "March        6645\n",
      "May          7114\n",
      "November     4672\n",
      "October      6914\n",
      "September    6392\n",
      "Name: count, dtype: int64\n"
     ]
    }
   ],
   "source": [
    "\n",
    "column_name = 'arrival_date_month'\n",
    "\n",
    "# Filter to include only rows where 'is_canceled' is 0\n",
    "filtered_df = df[df['is_canceled'] == 0]\n",
    "\n",
    "# Get count of unique arrival_date_month values\n",
    "column_count = filtered_df[column_name].value_counts().sort_index()\n",
    "\n",
    "print(f\"Count of '{column_name}' column: {column_count}\")"
   ]
  },
  {
   "cell_type": "code",
   "execution_count": null,
   "metadata": {},
   "outputs": [],
   "source": [
    "\n",
    "# Perform the count of unique arrival_date_month values\n",
    "unique_month_counts = filtered_df['arrival_date_month'].value_counts()\n",
    "\n",
    "# Create a DataFrame from the unique_month_counts series\n",
    "result_df = pd.DataFrame({'arrival_date_month': unique_month_counts.index, 'count': unique_month_counts.values})\n",
    "\n",
    "# Define the path for the new CSV file\n",
    "output_file = 'unique_month_counts_not_canceled.csv'\n",
    "\n",
    "# Save the result DataFrame to a new CSV file\n",
    "result_df.to_csv(output_file, index=False)\n",
    "\n",
    "print(f\"Saved the results to '{output_file}'.\")"
   ]
  },
  {
   "cell_type": "markdown",
   "metadata": {},
   "source": [
    "<h1>Group the data by arrival_date_year, arrival_date_month and arrival_date_day_of_month and count the number of bookings that day</h1>"
   ]
  },
  {
   "cell_type": "code",
   "execution_count": 41,
   "metadata": {},
   "outputs": [
    {
     "name": "stdout",
     "output_type": "stream",
     "text": [
      "     year   month  day  bookings\n",
      "0    2015  August    1        60\n",
      "1    2015  August    2        43\n",
      "2    2015  August    3        73\n",
      "3    2015  August    4        39\n",
      "4    2015  August    5        90\n",
      "..    ...     ...  ...       ...\n",
      "788  2017     May   27        74\n",
      "789  2017     May   28       137\n",
      "790  2017     May   29       115\n",
      "791  2017     May   30        90\n",
      "792  2017     May   31        94\n",
      "\n",
      "[793 rows x 4 columns]\n"
     ]
    }
   ],
   "source": [
    "df = pd.read_csv('hotel_booking.csv')\n",
    "\n",
    "\n",
    "# Filter to include only rows where 'is_canceled' is 0\n",
    "filter_not_canceled = df[df['is_canceled'] == 0]\n",
    "\n",
    "# Group the DataFrame by arrival_date_year, arrival_date_month and arrival_date_day_of_month\n",
    "grouped = filter_not_canceled.groupby(['arrival_date_year' ,'arrival_date_month', 'arrival_date_day_of_month'])\n",
    "\n",
    "\n",
    "# Calculate the count of each unique combination\n",
    "count_per_day_per_month = grouped.size().reset_index(name='bookings')\n",
    "\n",
    "# Rename the columns for better readability\n",
    "count_per_day_per_month = count_per_day_per_month.rename(columns={'arrival_date_year': 'year', 'arrival_date_month': 'month', 'arrival_date_day_of_month': 'day'})\n",
    "\n",
    "\n",
    "\n",
    "print(count_per_day_per_month)\n",
    "\n"
   ]
  },
  {
   "cell_type": "code",
   "execution_count": 37,
   "metadata": {},
   "outputs": [
    {
     "name": "stdout",
     "output_type": "stream",
     "text": [
      "Saved the results to 'arrival_counts_per_day_per_month_week_adults.csv'.\n"
     ]
    }
   ],
   "source": [
    "\n",
    "# Define the path for the new CSV file\n",
    "output_file = 'arrival_counts_per_day_per_month.csv'\n",
    "\n",
    "# Save the result DataFrame to a new CSV file\n",
    "count_per_day_per_month.to_csv(output_file, index=False)\n",
    "\n",
    "print(f\"Saved the results to '{output_file}'.\")"
   ]
  },
  {
   "cell_type": "markdown",
   "metadata": {},
   "source": [
    "<h1>Create a season column and rename count to bookings</h1>"
   ]
  },
  {
   "cell_type": "code",
   "execution_count": 39,
   "metadata": {},
   "outputs": [
    {
     "name": "stdout",
     "output_type": "stream",
     "text": [
      "      year   month  day  adults  bookings  season\n",
      "0     2015  August    1       1         9  Summer\n",
      "1     2015  August    1       2        48  Summer\n",
      "2     2015  August    1       3         3  Summer\n",
      "3     2015  August    2       1         5  Summer\n",
      "4     2015  August    2       2        33  Summer\n",
      "...    ...     ...  ...     ...       ...     ...\n",
      "2557  2017     May   30       2        53  Spring\n",
      "2558  2017     May   30       3         8  Spring\n",
      "2559  2017     May   31       1        29  Spring\n",
      "2560  2017     May   31       2        61  Spring\n",
      "2561  2017     May   31       3         4  Spring\n",
      "\n",
      "[2562 rows x 6 columns]\n"
     ]
    }
   ],
   "source": [
    "df = pd.read_csv('arrival_counts_per_day_per_month.csv')\n",
    "\n",
    "def get_season(month):\n",
    "    if month in ['March', 'April', 'May']:\n",
    "        return 'Spring'\n",
    "    elif month in ['June', 'July', 'August']:\n",
    "        return 'Summer'\n",
    "    elif month in ['September', 'October', 'November']:\n",
    "        return 'Fall'\n",
    "    else:\n",
    "        return 'Winter'\n",
    "    \n",
    "# renname count to bookings\n",
    "#df = df.rename(columns={'count': 'bookings'})\n",
    "\n",
    "#Apply the get_season function to the 'month' column\n",
    "df['season'] = df['month'].apply(get_season)\n",
    "\n",
    "\n",
    "print(df)"
   ]
  },
  {
   "cell_type": "code",
   "execution_count": 40,
   "metadata": {},
   "outputs": [
    {
     "name": "stdout",
     "output_type": "stream",
     "text": [
      "Saved the results to 'bookings_per_year_month_day_season_adults.csv'.\n"
     ]
    }
   ],
   "source": [
    "output_file = 'bookings_per_year_month_day_season_adults.csv'\n",
    "\n",
    "# Save the result DataFrame to a new CSV file\n",
    "df.to_csv(output_file, index=False)\n",
    "\n",
    "print(f\"Saved the results to '{output_file}'.\")"
   ]
  },
  {
   "cell_type": "code",
   "execution_count": 42,
   "metadata": {},
   "outputs": [
    {
     "name": "stdout",
     "output_type": "stream",
     "text": [
      "      year   month  day  adults  bookings\n",
      "0     2015  August    1       1         9\n",
      "1     2015  August    1       2        48\n",
      "2     2015  August    1       3         3\n",
      "3     2015  August    2       1         5\n",
      "4     2015  August    2       2        33\n",
      "...    ...     ...  ...     ...       ...\n",
      "2557  2017     May   30       2        53\n",
      "2558  2017     May   30       3         8\n",
      "2559  2017     May   31       1        29\n",
      "2560  2017     May   31       2        61\n",
      "2561  2017     May   31       3         4\n",
      "\n",
      "[2562 rows x 5 columns]\n"
     ]
    }
   ],
   "source": [
    "df = pd.read_csv('hotel_booking.csv')\n",
    "\n",
    "\n",
    "# Filter to include only rows where 'is_canceled' is 0\n",
    "filter_not_canceled = df[df['is_canceled'] == 0]\n",
    "\n",
    "# Group the DataFrame by arrival_date_year, arrival_date_month and arrival_date_day_of_month\n",
    "grouped = filter_not_canceled.groupby(['arrival_date_year' ,'arrival_date_month', 'arrival_date_day_of_month', 'adults'])\n",
    "\n",
    "\n",
    "# Calculate the count of each unique combination\n",
    "count_per_day_per_month = grouped.size().reset_index(name='bookings')\n",
    "\n",
    "# Rename the columns for better readability\n",
    "count_per_day_per_month = count_per_day_per_month.rename(columns={'arrival_date_year': 'year', 'arrival_date_month': 'month', 'arrival_date_day_of_month': 'day'})\n",
    "\n",
    "df = count_per_day_per_month\n",
    "\n",
    "print(df)\n"
   ]
  },
  {
   "cell_type": "code",
   "execution_count": 43,
   "metadata": {},
   "outputs": [
    {
     "name": "stdout",
     "output_type": "stream",
     "text": [
      "      year   month  day  adults  bookings  season\n",
      "0     2015  August    1       1         9  Summer\n",
      "1     2015  August    1       2        48  Summer\n",
      "2     2015  August    1       3         3  Summer\n",
      "3     2015  August    2       1         5  Summer\n",
      "4     2015  August    2       2        33  Summer\n",
      "...    ...     ...  ...     ...       ...     ...\n",
      "2557  2017     May   30       2        53  Spring\n",
      "2558  2017     May   30       3         8  Spring\n",
      "2559  2017     May   31       1        29  Spring\n",
      "2560  2017     May   31       2        61  Spring\n",
      "2561  2017     May   31       3         4  Spring\n",
      "\n",
      "[2562 rows x 6 columns]\n"
     ]
    }
   ],
   "source": [
    "\n",
    "def get_season(month):\n",
    "    if month in ['March', 'April', 'May']:\n",
    "        return 'Spring'\n",
    "    elif month in ['June', 'July', 'August']:\n",
    "        return 'Summer'\n",
    "    elif month in ['September', 'October', 'November']:\n",
    "        return 'Fall'\n",
    "    else:\n",
    "        return 'Winter'\n",
    "    \n",
    "# renname count to bookings\n",
    "#df = df.rename(columns={'count': 'bookings'})\n",
    "\n",
    "#Apply the get_season function to the 'month' column\n",
    "df['season'] = df['month'].apply(get_season)\n",
    "\n",
    "\n",
    "print(df)"
   ]
  },
  {
   "cell_type": "code",
   "execution_count": 44,
   "metadata": {},
   "outputs": [
    {
     "name": "stdout",
     "output_type": "stream",
     "text": [
      "Saved the results to 'bookings_per_year_month_day_season_adults.csv'.\n"
     ]
    }
   ],
   "source": [
    "output_file = 'bookings_per_year_month_day_season_adults.csv'\n",
    "\n",
    "# Save the result DataFrame to a new CSV file\n",
    "df.to_csv(output_file, index=False)\n",
    "\n",
    "print(f\"Saved the results to '{output_file}'.\")"
   ]
  },
  {
   "cell_type": "code",
   "execution_count": 3,
   "metadata": {},
   "outputs": [
    {
     "name": "stdout",
     "output_type": "stream",
     "text": [
      "      year   month  day  adults room_type  bookings\n",
      "0     2015  August    1       1         A         6\n",
      "1     2015  August    1       1         B         1\n",
      "2     2015  August    1       1         D         1\n",
      "3     2015  August    1       1         E         1\n",
      "4     2015  August    1       2         A        24\n",
      "...    ...     ...  ...     ...       ...       ...\n",
      "8096  2017     May   31       2         E         6\n",
      "8097  2017     May   31       2         F         1\n",
      "8098  2017     May   31       3         D         2\n",
      "8099  2017     May   31       3         E         1\n",
      "8100  2017     May   31       3         H         1\n",
      "\n",
      "[8101 rows x 6 columns]\n"
     ]
    }
   ],
   "source": [
    "df = pd.read_csv('hotel_booking.csv')\n",
    "\n",
    "\n",
    "# Filter to include only rows where 'is_canceled' is 0\n",
    "filter_not_canceled = df[df['is_canceled'] == 0]\n",
    "\n",
    "# Group the DataFrame by arrival_date_year, arrival_date_month and arrival_date_day_of_month\n",
    "grouped = filter_not_canceled.groupby(['arrival_date_year' ,'arrival_date_month', 'arrival_date_day_of_month', 'adults', 'reserved_room_type'])\n",
    "\n",
    "\n",
    "# Calculate the count of each unique combination\n",
    "count_per_day_per_month = grouped.size().reset_index(name='bookings')\n",
    "\n",
    "# Rename the columns for better readability\n",
    "count_per_day_per_month = count_per_day_per_month.rename(columns={'arrival_date_year': 'year', 'arrival_date_month': 'month', 'arrival_date_day_of_month': 'day', 'reserved_room_type': 'room_type'})\n",
    "\n",
    "df = count_per_day_per_month\n",
    "\n",
    "print(df)"
   ]
  },
  {
   "cell_type": "code",
   "execution_count": 4,
   "metadata": {},
   "outputs": [
    {
     "name": "stdout",
     "output_type": "stream",
     "text": [
      "      year   month  day  adults room_type  bookings  season\n",
      "0     2015  August    1       1         A         6  Summer\n",
      "1     2015  August    1       1         B         1  Summer\n",
      "2     2015  August    1       1         D         1  Summer\n",
      "3     2015  August    1       1         E         1  Summer\n",
      "4     2015  August    1       2         A        24  Summer\n",
      "...    ...     ...  ...     ...       ...       ...     ...\n",
      "8096  2017     May   31       2         E         6  Spring\n",
      "8097  2017     May   31       2         F         1  Spring\n",
      "8098  2017     May   31       3         D         2  Spring\n",
      "8099  2017     May   31       3         E         1  Spring\n",
      "8100  2017     May   31       3         H         1  Spring\n",
      "\n",
      "[8101 rows x 7 columns]\n"
     ]
    }
   ],
   "source": [
    "def get_season(month):\n",
    "    if month in ['March', 'April', 'May']:\n",
    "        return 'Spring'\n",
    "    elif month in ['June', 'July', 'August']:\n",
    "        return 'Summer'\n",
    "    elif month in ['September', 'October', 'November']:\n",
    "        return 'Fall'\n",
    "    else:\n",
    "        return 'Winter'\n",
    "    \n",
    "# renname count to bookings\n",
    "#df = df.rename(columns={'count': 'bookings'})\n",
    "\n",
    "#Apply the get_season function to the 'month' column\n",
    "df['season'] = df['month'].apply(get_season)\n",
    "\n",
    "\n",
    "print(df)"
   ]
  },
  {
   "cell_type": "code",
   "execution_count": null,
   "metadata": {},
   "outputs": [],
   "source": [
    "output_file = 'bookings_per_year_month_day_season_adults_rooms.csv'\n",
    "\n",
    "# Save the result DataFrame to a new CSV file\n",
    "df.to_csv(output_file, index=False)\n",
    "\n",
    "print(f\"Saved the results to '{output_file}'.\")"
   ]
  }
 ],
 "metadata": {
  "kernelspec": {
   "display_name": "hotel-booking",
   "language": "python",
   "name": "python3"
  },
  "language_info": {
   "codemirror_mode": {
    "name": "ipython",
    "version": 3
   },
   "file_extension": ".py",
   "mimetype": "text/x-python",
   "name": "python",
   "nbconvert_exporter": "python",
   "pygments_lexer": "ipython3",
   "version": "3.11.7"
  }
 },
 "nbformat": 4,
 "nbformat_minor": 2
}
